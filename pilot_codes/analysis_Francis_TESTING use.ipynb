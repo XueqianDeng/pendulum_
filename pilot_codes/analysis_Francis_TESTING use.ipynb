{
 "cells": [
  {
   "cell_type": "code",
   "execution_count": null,
   "metadata": {
    "collapsed": true
   },
   "outputs": [],
   "source": []
  },
  {
   "cell_type": "markdown",
   "source": [
    "### Analysis for Pendulum"
   ],
   "metadata": {
    "collapsed": false
   }
  },
  {
   "cell_type": "markdown",
   "source": [
    "## Get Dependencies"
   ],
   "metadata": {
    "collapsed": false
   }
  },
  {
   "cell_type": "code",
   "execution_count": null,
   "outputs": [],
   "source": [
    "import numpy as np\n",
    "import pandas as pd\n",
    "import matplotlib.pyplot as plt\n",
    "import pickle"
   ],
   "metadata": {
    "collapsed": false,
    "pycharm": {
     "name": "#%%\n"
    }
   }
  },
  {
   "cell_type": "markdown",
   "source": [
    "## Import Data"
   ],
   "metadata": {
    "collapsed": false
   }
  },
  {
   "cell_type": "code",
   "execution_count": null,
   "outputs": [],
   "source": [
    "subject_name = \"Hokin_Second_Time_\"\n",
    "hand = \"Right_Hand\"\n",
    "data_path = \"data/\" + subject_name + hand\n",
    "trials_num  = 30"
   ],
   "metadata": {
    "collapsed": false,
    "pycharm": {
     "name": "#%%\n"
    }
   }
  },
  {
   "cell_type": "markdown",
   "source": [
    "Load each of the gravity condition"
   ],
   "metadata": {
    "collapsed": false
   }
  },
  {
   "cell_type": "code",
   "execution_count": null,
   "outputs": [],
   "source": [
    "#TODO: missing 15,25,35\n",
    "Gravity_10_data_path = data_path + \"/Gravity10\"\n",
    "gravity_list_10 = []\n",
    "for i in range(1, 30):\n",
    "    df_this = pd.read_csv(Gravity_10_data_path + \"/\" + str(i) + \".csv\")\n",
    "    gravity_list_10.append(df_this)\n",
    "\n",
    "Gravity_20_data_path = data_path + \"/Gravity20\"\n",
    "gravity_list_20 = []\n",
    "for i in range(1, 30):\n",
    "    df_this = pd.read_csv(Gravity_10_data_path + \"/\" + str(i) + \".csv\")\n",
    "    gravity_list_20.append(df_this)\n",
    "\n",
    "Gravity_30_data_path = data_path + \"/Gravity30\"\n",
    "gravity_list_30 = []\n",
    "for i in range(1, 30):\n",
    "    df_this = pd.read_csv(Gravity_30_data_path + \"/\" + str(i) + \".csv\")\n",
    "    gravity_list_30.append(df_this)\n",
    "\n",
    "Gravity_40_data_path = data_path + \"/Gravity40\"\n",
    "gravity_list_40 = []\n",
    "for i in range(1, 30):\n",
    "    df_this = pd.read_csv(Gravity_40_data_path + \"/\" + str(i) + \".csv\")\n",
    "    gravity_list_40.append(df_this)"
   ],
   "metadata": {
    "collapsed": false,
    "pycharm": {
     "name": "#%%\n"
    }
   }
  },
  {
   "cell_type": "markdown",
   "source": [
    "## Visualize Raw Data"
   ],
   "metadata": {
    "collapsed": false
   }
  },
  {
   "cell_type": "code",
   "execution_count": null,
   "outputs": [],
   "source": [
    "print(len(gravity_list_10))"
   ],
   "metadata": {
    "collapsed": false,
    "pycharm": {
     "name": "#%%\n"
    }
   }
  },
  {
   "cell_type": "code",
   "execution_count": null,
   "outputs": [],
   "source": [
    "#for i in range(1, 29):\n",
    "#    this_ = gravity_list_10[i]\n",
    "#    this_data = this_.values\n",
    "#    print(np.shape(this_data[:,2]))\n",
    "#    x_time = this_data[1:,2]\n",
    "#    u_0 = this_data[1:,0]\n",
    "#    u_1 = this_data[1:,1]\n",
    "##    plt.plot(x_time, u_0)\n",
    "#    plt.plot(x_time, u_1)\n",
    "#    plt.show()"
   ],
   "metadata": {
    "collapsed": false,
    "pycharm": {
     "name": "#%%\n"
    }
   }
  },
  {
   "cell_type": "code",
   "execution_count": null,
   "outputs": [],
   "source": [
    "#copied from the section above. Used ChatGPT for illustration\n",
    "import matplotlib.pyplot as plt\n",
    "num_data_sets = 28\n",
    "num_rows = 7\n",
    "num_cols = 4\n",
    "\n",
    "fig, axes = plt.subplots(num_rows, num_cols, figsize=(15, 20))  # Adjust figsize as needed\n",
    "\n",
    "for i in range(28):\n",
    "    this_ = gravity_list_10[i]\n",
    "    this_data = this_.values\n",
    "    x_time = this_data[1:, 2]\n",
    "    u_0 = this_data[1:, 0]\n",
    "    u_1 = this_data[1:, 1]\n",
    "\n",
    "    row = i // num_cols\n",
    "    col = i % num_cols\n",
    "    ax = axes[row, col]\n",
    "\n",
    "    ax.plot(x_time, u_0, label='u_0')\n",
    "    ax.plot(x_time, u_1, label='u_1')\n",
    "    ax.set_title(f'Data Set {i+1}')\n",
    "    ax.legend()\n",
    "\n",
    "# Hide any empty subplots\n",
    "for i in range(num_data_sets, num_rows * num_cols):\n",
    "    row = i // num_cols\n",
    "    col = i % num_cols\n",
    "    fig.delaxes(axes[row, col])\n",
    "\n",
    "plt.tight_layout()\n",
    "plt.show()\n"
   ],
   "metadata": {
    "collapsed": false,
    "pycharm": {
     "name": "#%%\n"
    }
   }
  },
  {
   "cell_type": "code",
   "execution_count": null,
   "outputs": [],
   "source": [
    "ig, axes = plt.subplots(num_rows, num_cols, figsize=(15, 20))  # Adjust figsize as needed\n",
    "\n",
    "for i in range(28):\n",
    "    this_ = gravity_list_20[i]\n",
    "    this_data = this_.values\n",
    "    x_time = this_data[1:, 2]\n",
    "    u_0 = this_data[1:, 0]\n",
    "    u_1 = this_data[1:, 1]\n",
    "\n",
    "    row = i // num_cols\n",
    "    col = i % num_cols\n",
    "    ax = axes[row, col]\n",
    "\n",
    "    ax.plot(x_time, u_0, label='u_0')\n",
    "    ax.plot(x_time, u_1, label='u_1')\n",
    "    ax.set_title(f'Data Set {i+1}  (len {len(this_data)})')\n",
    "    ax.legend()\n",
    "\n",
    "# Hide any empty subplots\n",
    "for i in range(num_data_sets, num_rows * num_cols):\n",
    "    row = i // num_cols\n",
    "    col = i % num_cols\n",
    "    fig.delaxes(axes[row, col])\n",
    "\n",
    "plt.tight_layout()\n",
    "plt.show()"
   ],
   "metadata": {
    "collapsed": false,
    "pycharm": {
     "name": "#%%\n"
    }
   }
  },
  {
   "cell_type": "code",
   "execution_count": null,
   "outputs": [],
   "source": [
    "ig, axes = plt.subplots(num_rows, num_cols, figsize=(15, 20))  # Adjust figsize as needed\n",
    "\n",
    "for i in range(28):\n",
    "    this_ = gravity_list_30[i]\n",
    "    this_data = this_.values\n",
    "    x_time = this_data[1:, 2]\n",
    "    u_0 = this_data[1:, 0]\n",
    "    u_1 = this_data[1:, 1]\n",
    "\n",
    "    row = i // num_cols\n",
    "    col = i % num_cols\n",
    "    ax = axes[row, col]\n",
    "\n",
    "    ax.plot(x_time, u_0, label='u_0')\n",
    "    ax.plot(x_time, u_1, label='u_1')\n",
    "    ax.set_title(f'Data Set {i+1}')\n",
    "    ax.legend()\n",
    "\n",
    "# Hide any empty subplots\n",
    "for i in range(num_data_sets, num_rows * num_cols):\n",
    "    row = i // num_cols\n",
    "    col = i % num_cols\n",
    "    fig.delaxes(axes[row, col])\n",
    "\n",
    "plt.tight_layout()\n",
    "plt.show()\n"
   ],
   "metadata": {
    "collapsed": false,
    "pycharm": {
     "name": "#%%\n"
    }
   }
  },
  {
   "cell_type": "code",
   "execution_count": null,
   "outputs": [],
   "source": [
    "ig, axes = plt.subplots(num_rows, num_cols, figsize=(15, 20))  # Adjust figsize as needed\n",
    "\n",
    "for i in range(28):\n",
    "    this_ = gravity_list_40[i]\n",
    "    this_data = this_.values\n",
    "    x_time = this_data[1:, 2]\n",
    "    u_0 = this_data[1:, 0]\n",
    "    u_1 = this_data[1:, 1]\n",
    "\n",
    "    row = i // num_cols\n",
    "    col = i % num_cols\n",
    "    ax = axes[row, col]\n",
    "\n",
    "    ax.plot(x_time, u_0, label='u_0')\n",
    "    ax.plot(x_time, u_1, label='u_1')\n",
    "    ax.set_title(f'Data Set {i+1}')\n",
    "    ax.legend()\n",
    "\n",
    "# Hide any empty subplots\n",
    "for i in range(num_data_sets, num_rows * num_cols):\n",
    "    row = i // num_cols\n",
    "    col = i % num_cols\n",
    "    fig.delaxes(axes[row, col])\n",
    "\n",
    "plt.tight_layout()\n",
    "plt.show()\n",
    "\n"
   ],
   "metadata": {
    "collapsed": false,
    "pycharm": {
     "name": "#%%\n"
    }
   }
  }
 ],
 "metadata": {
  "kernelspec": {
   "display_name": "Python 3",
   "language": "python",
   "name": "python3"
  },
  "language_info": {
   "codemirror_mode": {
    "name": "ipython",
    "version": 2
   },
   "file_extension": ".py",
   "mimetype": "text/x-python",
   "name": "python",
   "nbconvert_exporter": "python",
   "pygments_lexer": "ipython2",
   "version": "2.7.6"
  }
 },
 "nbformat": 4,
 "nbformat_minor": 0
}